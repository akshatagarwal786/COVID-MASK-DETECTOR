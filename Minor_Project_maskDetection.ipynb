{
  "nbformat": 4,
  "nbformat_minor": 0,
  "metadata": {
    "colab": {
      "name": "Minor_Project_maskDetection.ipynb",
      "provenance": [],
      "toc_visible": true
    },
    "kernelspec": {
      "name": "python3",
      "display_name": "Python 3"
    },
    "language_info": {
      "name": "python"
    }
  },
  "cells": [
    {
      "cell_type": "markdown",
      "metadata": {
        "id": "tikL3Zmrm_zF"
      },
      "source": [
        "### Dependencies"
      ]
    },
    {
      "cell_type": "code",
      "metadata": {
        "id": "bfYHI_NTcUop"
      },
      "source": [
        " \n",
        "from sklearn.model_selection import train_test_split\n",
        "import numpy as np\n",
        "import os\n",
        "import PIL\n",
        "import cv2\n",
        "import pickle\n",
        " "
      ],
      "execution_count": null,
      "outputs": []
    },
    {
      "cell_type": "markdown",
      "metadata": {
        "id": "aLigwmBrnG38"
      },
      "source": [
        "### Creating training and testing Dataset "
      ]
    },
    {
      "cell_type": "code",
      "metadata": {
        "id": "PEq9ranVjDRr"
      },
      "source": [
        "dir = \"C:data/\"  \n",
        "cat = ['0','1', '2']\n",
        "X = []\n",
        "y = []"
      ],
      "execution_count": null,
      "outputs": []
    },
    {
      "cell_type": "code",
      "metadata": {
        "id": "ltkWee5si7NK"
      },
      "source": [
        "for c in cat:\n",
        "    path = os.path.join(dir, c)\n",
        "    class_num_label = cat.index(c)\n",
        "    for img in os.listdir(path):\n",
        "            img_arr = cv2.imread(os.path.join(path,img), cv2.IMREAD_GRAYSCALE)\n",
        "            img_arr = cv2.resize(img_arr, (64,64))\n",
        "            X.append(img_arr)\n",
        "            y.append(class_num_label)"
      ],
      "execution_count": null,
      "outputs": []
    },
    {
      "cell_type": "code",
      "metadata": {
        "id": "UAtcS5FXcUor"
      },
      "source": [
        " \n",
        "data = np.array(X).flatten().reshape(len(y),4096)  \n",
        "X = np.array(X).reshape(-1,64,64)  \n",
        "y = np.array(y) \n",
        " "
      ],
      "execution_count": null,
      "outputs": []
    },
    {
      "cell_type": "code",
      "metadata": {
        "id": "FD0oR1R3cUos"
      },
      "source": [
        "pickle_out = open(\"X.pickle\", \"wb\")\n",
        "pickle.dump(X, pickle_out)\n",
        "pickle_out.close()\n",
        "pickle_out = open(\"y.pickle\", \"wb\")\n",
        "pickle.dump(y, pickle_out)\n",
        "pickle_out.close()\n",
        "pickle_out = open(\"data.pickle\", \"wb\")\n",
        "pickle.dump(data, pickle_out)\n",
        "pickle_out.close()"
      ],
      "execution_count": null,
      "outputs": []
    },
    {
      "cell_type": "code",
      "metadata": {
        "id": "ti39ILBxcUot"
      },
      "source": [
        "pickle_in = open(\"X.pickle\", \"rb\")\n",
        "X = pickle.load(pickle_in)\n",
        "pickle_in = open(\"y.pickle\", \"rb\")\n",
        "y = pickle.load(pickle_in)\n",
        "pickle_in = open(\"data.pickle\", \"rb\")\n",
        "data = pickle.load(pickle_in)"
      ],
      "execution_count": null,
      "outputs": []
    },
    {
      "cell_type": "code",
      "metadata": {
        "id": "Q5oqsCF5cUou",
        "outputId": "79b3e8d6-2e28-4560-e48f-1087f5f13064"
      },
      "source": [
        " \n",
        "X_train, X_test, y_train, y_test = train_test_split(X, y, test_size=0.2, random_state=45)\n",
        "\n",
        " \n",
        "print('Length of our Training data: ',len(X_train))\n",
        "print(\"\\n\")\n",
        "print('Length of our Testing data: ',len(X_test))"
      ],
      "execution_count": null,
      "outputs": [
        {
          "output_type": "stream",
          "text": [
            "Length of our Training data:  14149 \n",
            "Length of our Testing data:  3538\n"
          ],
          "name": "stdout"
        }
      ]
    },
    {
      "cell_type": "markdown",
      "metadata": {
        "id": "bVfzVfv3K2KD"
      },
      "source": [
        "### Naive Bayes Classification \n",
        "\n"
      ]
    },
    {
      "cell_type": "code",
      "metadata": {
        "id": "njsvHYwSTj5-"
      },
      "source": [
        " \n",
        "import numpy as np \n",
        "\n",
        "import sklearn\n",
        "import sklearn.naive_bayes\n",
        "from sklearn.model_selection import train_test_split\n",
        "\n",
        "import pickle\n",
        "import cv2\n",
        "from cv2 import cv2\n",
        "\n",
        "import matplotlib.pyplot as plt\n",
        "import seaborn as sns\n",
        "sns.set()"
      ],
      "execution_count": null,
      "outputs": []
    },
    {
      "cell_type": "code",
      "metadata": {
        "id": "rZES7sgcWBCm"
      },
      "source": [
        "x_path = '/content/drive/MyDrive/self-built-masked-face-recognition-dataset/X.pickle'\n",
        "y_path = '/content/drive/MyDrive/self-built-masked-face-recognition-dataset/data_pickle/y.pickle'\n",
        "X = pickle.load(open(x_path, 'rb'))\n",
        "y = pickle.load(open(y_path, 'rb'))\n"
      ],
      "execution_count": null,
      "outputs": []
    },
    {
      "cell_type": "code",
      "metadata": {
        "colab": {
          "base_uri": "https://localhost:8080/"
        },
        "id": "31VBX6U-O-J4",
        "outputId": "de654dca-8b97-4f50-a4b8-3aab25e4f20b"
      },
      "source": [
        "\n",
        "print('Before Reshaping to 1D:', X.shape)\n",
        "X = X.reshape(-1, 64*64)\n",
        "print('After Reshaping to 1D: ', X.shape)"
      ],
      "execution_count": null,
      "outputs": [
        {
          "output_type": "stream",
          "text": [
            "Before Reshaping to 1D: (17687, 64, 64)\n",
            "After Reshaping to 1D:  (17687, 4096)\n"
          ],
          "name": "stdout"
        }
      ]
    },
    {
      "cell_type": "code",
      "metadata": {
        "id": "5LKT-1dvaRJh"
      },
      "source": [
        "\n",
        "X = X / 255.0"
      ],
      "execution_count": null,
      "outputs": []
    },
    {
      "cell_type": "code",
      "metadata": {
        "id": "P3MDlNG3ejzC"
      },
      "source": [
        " \n",
        "X_train, X_test, y_train, y_test = train_test_split(X, y, test_size=0.2, random_state=10)"
      ],
      "execution_count": null,
      "outputs": []
    },
    {
      "cell_type": "markdown",
      "metadata": {
        "id": "XAL4IC72NigB"
      },
      "source": [
        "#### GaussianNB \n",
        " \n",
        "\n"
      ]
    },
    {
      "cell_type": "code",
      "metadata": {
        "id": "6x2f-vkH7lDM"
      },
      "source": [
        " \n",
        "gnb_model = sklearn.naive_bayes.GaussianNB()\n",
        "\n",
        "\n",
        "gnb_model.fit(X_train, y_train)"
      ],
      "execution_count": null,
      "outputs": []
    },
    {
      "cell_type": "code",
      "metadata": {
        "colab": {
          "base_uri": "https://localhost:8080/",
          "height": 602
        },
        "id": "LQYyIKCMU-YJ",
        "outputId": "91652f74-1ffe-4369-86ae-2049d5598ae9"
      },
      "source": [
        "from sklearn.metrics import accuracy_score , classification_report , recall_score ,f1_score , confusion_matrix\n",
        "y_pred_gnb = gnb_model.predict(X_test)\n",
        "\n",
        "print('GaussianNB Metrics')\n",
        "print(\"\\n\\n\")\n",
        "accuracy = accuracy_score(y_test, y_pred_gnb)\n",
        "print('Accuracy: %f' % accuracy )\n",
        "print(\"\\n\\n\")\n",
        "\n",
        "recall = recall_score(y_test, y_pred_gnb, average='micro')\n",
        "print('Recall: %f' % recall)\n",
        "print(\"\\n\\n\")\n",
        "\n",
        "\n",
        "f1_score =f1_score(y_test, y_pred_gnb, average='micro')\n",
        "print('F1 Score: %f' % f1_score)\n",
        "\n",
        "array = confusion_matrix(y_test, y_pred_gnb)\n",
        "\n",
        "df_cm = pd.DataFrame(array, range(3), range(3))\n",
        "# plt.figure(figsize=(10,7))\n",
        "sn.set(font_scale=1.4)  \n",
        "sn.heatmap(df_cm, annot=True,cmap='Blues_r', fmt='d',square=True,xticklabels=[\"Without Mask\",\" Incorrectly Wearing Mask\",\"Wearing Mask\"], yticklabels=[\"Without Mask\",\" Incorrectly Wearing Mask\",\"Wearing Mask\"],  annot_kws={\"size\": 13}) # font size\n",
        "plt.title('Confusion Matrix for GaussianNB')\n",
        "\n",
        "plt.show()"
      ],
      "execution_count": null,
      "outputs": [
        {
          "output_type": "stream",
          "text": [
            "GaussianNB Metrics\n",
            "\n",
            "Accuracy: 0.779536\n",
            "\n",
            "Recall: 0.779536\n",
            "\n",
            "F1 Score: 0.779536\n",
            "\n"
          ],
          "name": "stdout"
        },
        {
          "output_type": "display_data",
          "data": {
            "image/png": "[encoded data removed]",
            "text/plain": [
              "<Figure size 576x576 with 2 Axes>"
            ]
          },
          "metadata": {
            "tags": []
          }
        }
      ]
    },
    {
      "cell_type": "code",
      "metadata": {
        "id": "u022Oy_AsfVO"
      },
      "source": [
        ""
      ],
      "execution_count": null,
      "outputs": []
    },
    {
      "cell_type": "code",
      "metadata": {
        "id": "CLMmKFYTsgxP"
      },
      "source": [
        ""
      ],
      "execution_count": null,
      "outputs": []
    },
    {
      "cell_type": "markdown",
      "metadata": {
        "id": "sgBAuy-hOJMc"
      },
      "source": [
        "#### GaussianNB with Hyperparameter tuning"
      ]
    },
    {
      "cell_type": "code",
      "metadata": {
        "colab": {
          "base_uri": "https://localhost:8080/"
        },
        "id": "SOkbbPqUVC6-",
        "outputId": "812f5a82-c547-4f1b-bca4-3a333767679e"
      },
      "source": [
        "%%time\n",
        "\n",
        "# Gridsearch for GaussianNB\n",
        "params = {\n",
        "    'var_smoothing' : [1e-09, 1e-07, 1e-05, 1e-03, 1, 100]\n",
        "}\n",
        "\n",
        "# Hyperparameter tuning\n",
        "grid_search_cv = sklearn.model_selection.GridSearchCV(sklearn.naive_bayes.GaussianNB(), param_grid=params, scoring='accuracy', n_jobs=-1)\n",
        "\n",
        "grid_search_cv.fit(X_train, y_train)"
      ],
      "execution_count": null,
      "outputs": [
        {
          "output_type": "stream",
          "text": [
            "CPU times: user 870 ms, sys: 407 ms, total: 1.28 s\n",
            "Wall time: 23.4 s\n"
          ],
          "name": "stdout"
        }
      ]
    },
    {
      "cell_type": "code",
      "metadata": {
        "colab": {
          "base_uri": "https://localhost:8080/"
        },
        "id": "4reLm42VYTs-",
        "outputId": "00cc756e-e571-42f3-9e74-0c74c9222db3"
      },
      "source": [
        "print('Best param for \\'var_smoothing\\':', grid_search_cv.best_params_)\n",
        "print('With Accuracy of %f' % grid_search_cv.best_score_)"
      ],
      "execution_count": null,
      "outputs": [
        {
          "output_type": "stream",
          "text": [
            "Best param for 'var_smoothing': {'var_smoothing': 0.001}\n",
            "With Accuracy of 0.771927\n"
          ],
          "name": "stdout"
        }
      ]
    },
    {
      "cell_type": "code",
      "metadata": {
        "colab": {
          "base_uri": "https://localhost:8080/",
          "height": 602
        },
        "id": "YkEqKFirYg7H",
        "outputId": "d3c8bb48-a307-4655-f6d5-fac034ab0df4"
      },
      "source": [
        "# Grab the best performing model\n",
        "gnb_model = grid_search_cv.best_estimator_\n",
        "\n",
        "gnb_gs_y_pred = gnb_model.predict(X_test)\n",
        "\n",
        "print('GaussianNB with \\'var_smoothing\\' of %f Metrics' % grid_search_cv.best_params_['var_smoothing'], end='\\n\\n')\n",
        "accuracy = sklearn.metrics.accuracy_score(y_test, gnb_gs_y_pred)\n",
        "print('Accuracy: %f' % accuracy, end='\\n\\n')\n",
        "\n",
        "recall = sklearn.metrics.recall_score(y_test, gnb_gs_y_pred, average='micro')\n",
        "print('Recall: %f' % recall, end='\\n\\n')\n",
        "\n",
        "f1_score = sklearn.metrics.f1_score(y_test, gnb_gs_y_pred, average='micro')\n",
        "print('F1 Score: %f' % f1_score)\n",
        "\n",
        "cm = sklearn.metrics.confusion_matrix(y_test, gnb_gs_y_pred)\n",
        "# print('Confusion Matrix:')\n",
        "# print(cm, end='\\n\\n')\n",
        "plt.figure(figsize=(8,8), facecolor='w')\n",
        "sns.heatmap(cm, annot=True, fmt='d', linewidths=.5, square=True,cmap='Blues_r', yticklabels=CATEGORIES, xticklabels=CATEGORIES)\n",
        "plt.title('Confusion Matrix for GaussianNB')\n",
        "\n",
        "print()"
      ],
      "execution_count": null,
      "outputs": [
        {
          "output_type": "stream",
          "text": [
            "GaussianNB with 'var_smoothing' of 0.001000 Metrics\n",
            "\n",
            "Accuracy: 0.778689\n",
            "\n",
            "Recall: 0.778689\n",
            "\n",
            "F1 Score: 0.778689\n",
            "\n"
          ],
          "name": "stdout"
        },
        {
          "output_type": "display_data",
          "data": {
            "image/png": "[encoded data removed]",
            "text/plain": [
              "<Figure size 576x576 with 2 Axes>"
            ]
          },
          "metadata": {
            "tags": []
          }
        }
      ]
    },
    {
      "cell_type": "markdown",
      "metadata": {
        "id": "RnUa47SFcX9O"
      },
      "source": [
        "### KNN  \n",
        " "
      ]
    },
    {
      "cell_type": "code",
      "metadata": {
        "id": "5qmYqxhKcX9J"
      },
      "source": [
        " \n",
        "from sklearn.neighbors import KNeighborsClassifier\n",
        " \n",
        "from sklearn.decomposition import PCA  \n",
        "\n",
        "import seaborn as sns  \n",
        "import pandas as pd\n",
        "import numpy as np\n",
        "import matplotlib.pyplot as plt \n",
        "\n",
        "import pickle\n",
        " "
      ],
      "execution_count": null,
      "outputs": []
    },
    {
      "cell_type": "code",
      "metadata": {
        "id": "M_9cwfJdcX9K"
      },
      "source": [
        "pickle_in = open(\"X.pickle\", \"rb\")\n",
        "X = pickle.load(pickle_in)\n",
        "pickle_in = open(\"y.pickle\", \"rb\")\n",
        "y = pickle.load(pickle_in)\n",
        "pickle_in = open(\"data.pickle\", \"rb\")\n",
        "data = pickle.load(pickle_in)  "
      ],
      "execution_count": null,
      "outputs": []
    },
    {
      "cell_type": "code",
      "metadata": {
        "id": "lBMnHig-cX9M",
        "outputId": "ecd1287b-cd5d-48ea-f049-d92a6276925b"
      },
      "source": [
        "\n",
        "cols = []\n",
        "for i in range(0, len(data[0])):\n",
        "    cols.append(\"P\" + str(i))\n",
        "\n",
        "# Convert to Dataframe\n",
        "numpy_data = data\n",
        "X = pd.DataFrame(data=numpy_data, columns=[cols])\n",
        "print(X.head())\n",
        "\n",
        "y = pd.DataFrame(data=y, columns=[\"Mask_Target\"])\n",
        "print(y.head())"
      ],
      "execution_count": null,
      "outputs": [
        {
          "output_type": "stream",
          "text": [
            "    P0   P1   P2   P3   P4   P5   P6   P7   P8   P9  ... P4086 P4087 P4088  \\\n",
            "0   20   21   19   22   29   31   37   51   54   37  ...   132   131   106   \n",
            "1  127  127  125  126   87   69   34   30   33   37  ...   141   156   156   \n",
            "2   48   43   37   34   34   40   49   83  100  106  ...    79    58    41   \n",
            "3  184   91   63   25   14   17   15   35   44   41  ...    84    86    53   \n",
            "4  111  125  126   97  109  140  168  185  166   91  ...   138    61    27   \n",
            "\n",
            "  P4089 P4090 P4091 P4092 P4093 P4094 P4095  \n",
            "0   158   125    43    24    21    21    34  \n",
            "1   149   150   149   145   125   115   103  \n",
            "2    21    14    19    22    23    20    21  \n",
            "3    17    13    13    14    11    13    15  \n",
            "4    35    30    38    34    45    54    48  \n",
            "\n",
            "[5 rows x 4096 columns]\n",
            "   Mask_Target\n",
            "0            0\n",
            "1            0\n",
            "2            0\n",
            "3            0\n",
            "4            0\n"
          ],
          "name": "stdout"
        }
      ]
    },
    {
      "cell_type": "code",
      "metadata": {
        "id": "gkWhaGmEcX9N"
      },
      "source": [
        " \n",
        "X = X / 255.0"
      ],
      "execution_count": null,
      "outputs": []
    },
    {
      "cell_type": "code",
      "metadata": {
        "id": "ImXdNSVGcX9O"
      },
      "source": [
        " \n",
        "X_train, X_test, y_train, y_test = train_test_split(X, y, test_size=0.2, random_state=45)\n",
        "\n",
        " "
      ],
      "execution_count": null,
      "outputs": []
    },
    {
      "cell_type": "code",
      "metadata": {
        "id": "CJKikCDXcX9O",
        "outputId": "08c92746-6562-409a-dd0b-14f83f126533"
      },
      "source": [
        " \n",
        "knn = KNeighborsClassifier()\n",
        "knn.fit(X_train, y_train.values.ravel())"
      ],
      "execution_count": null,
      "outputs": [
        {
          "output_type": "execute_result",
          "data": {
            "text/plain": [
              "KNeighborsClassifier()"
            ]
          },
          "metadata": {
            "tags": []
          },
          "execution_count": 8
        }
      ]
    },
    {
      "cell_type": "code",
      "metadata": {
        "id": "bJ9CW1h2cX9P"
      },
      "source": [
        "y_pred_knn = knn.predict(X_test)"
      ],
      "execution_count": null,
      "outputs": []
    },
    {
      "cell_type": "code",
      "metadata": {
        "id": "Krvf-p-QcX9P"
      },
      "source": [
        " \n",
        "pickle_out = open(\"y_pred_knn.pickle\", \"wb\")\n",
        "pickle.dump(y_pred_knn, pickle_out)\n",
        "pickle_out.close()"
      ],
      "execution_count": null,
      "outputs": []
    },
    {
      "cell_type": "code",
      "metadata": {
        "id": "OBNyDvYxcX9P",
        "outputId": "78955d08-46c8-4ada-c7ab-a46537e52bb5"
      },
      "source": [
        " \n",
        "print('KNN Accuracy: %.3f' % accuracy_score(y_test, y_pred_knn))"
      ],
      "execution_count": null,
      "outputs": [
        {
          "output_type": "stream",
          "text": [
            "KNN Accuracy: 0.758\n"
          ],
          "name": "stdout"
        }
      ]
    },
    {
      "cell_type": "code",
      "metadata": {
        "id": "xgA-nG8_cX9Q",
        "outputId": "3cb98d68-65a8-4df3-dd10-bd98df1e9544"
      },
      "source": [
        "\n",
        "print('Accuracy Score: {0}'.format(accuracy_score(y_test,  y_pred_knn)))\n",
        "array = confusion_matrix(y_test, y_pred_knn)\n",
        "df_cm = pd.DataFrame(array, range(3), range(3))\n",
        "# plt.figure(figsize=(10,7))\n",
        "sn.set(font_scale=1.4)  \n",
        "sn.heatmap(df_cm, annot=True,cmap='Reds_r', fmt='.3f',square=True,xticklabels=cat, yticklabels=cat,  annot_kws={\"size\": 13}) \n",
        "plt.ylabel('Actual label')\n",
        "plt.xlabel('Predicted label')\n",
        "\n",
        "plt.show()"
      ],
      "execution_count": null,
      "outputs": [
        {
          "output_type": "execute_result",
          "data": {
            "text/plain": [
              "Text(0.5, 1.0, 'Accuracy Score: 0.7577727529677784')"
            ]
          },
          "metadata": {
            "tags": []
          },
          "execution_count": 12
        },
        {
          "output_type": "display_data",
          "data": {
            "image/png": "[encoded data removed]",
            "text/plain": [
              "<Figure size 648x648 with 2 Axes>"
            ]
          },
          "metadata": {
            "tags": [],
            "needs_background": "light"
          }
        }
      ]
    },
    {
      "cell_type": "code",
      "metadata": {
        "id": "D96wH1zJcX9Q",
        "outputId": "fe9ed50a-fe78-4ec7-ed1e-e3f741690e0e"
      },
      "source": [
        "print('KNN Precision: %.3f' % precision_score(y_test, y_pred_knn))\n",
        "print('KNN Recall: %.3f' % recall_score( y_test, y_pred_knn))\n",
        "print('KNN F1 Score: %.3f' % f1_score(y_test, y_pred_knn))\n",
        "print(\"\\n\")\n",
        "print(\"No Hyperparameter Tuning Classification Report\\n\", classification_report(y_test, y_pred_knn ))"
      ],
      "execution_count": null,
      "outputs": [
        {
          "output_type": "stream",
          "text": [
            "KNN Precision: 0.758\n",
            "KNN Recall: 0.758\n",
            "KNN F1 Score: 0.758\n",
            "\n",
            "No Hyperparameter Tuning Classification Report\n",
            "               precision    recall  f1-score   support\n",
            "\n",
            "           0       0.59      0.98      0.74      1178\n",
            "           1       0.98      0.75      0.85      1180\n",
            "           2       0.92      0.54      0.68      1180\n",
            "\n",
            "    accuracy                           0.76      3538\n",
            "   macro avg       0.83      0.76      0.76      3538\n",
            "weighted avg       0.83      0.76      0.76      3538\n",
            "\n"
          ],
          "name": "stdout"
        }
      ]
    },
    {
      "cell_type": "code",
      "metadata": {
        "id": "xlhqFNU03zXZ"
      },
      "source": [
        ""
      ],
      "execution_count": null,
      "outputs": []
    },
    {
      "cell_type": "code",
      "metadata": {
        "id": "e5sOeS-q4A8k"
      },
      "source": [
        ""
      ],
      "execution_count": null,
      "outputs": []
    },
    {
      "cell_type": "markdown",
      "metadata": {
        "id": "Q_1niWu54UAD"
      },
      "source": [
        "###KNN Hyperparameter Tuning with RandomizedSearchCV"
      ]
    },
    {
      "cell_type": "code",
      "metadata": {
        "id": "cKBGODsX4dSD"
      },
      "source": [
        ""
      ],
      "execution_count": null,
      "outputs": []
    },
    {
      "cell_type": "code",
      "metadata": {
        "id": "31hSmYrN1iM6"
      },
      "source": [
        "# Parameter values that should be tested\n",
        "k_range = list(range(1,21))\n",
        "metric = ['manhattan'] # Manhattan distance outperformed Euclidean in GridSearch, so we exclude it here\n",
        "options = ['uniform', 'distance']\n",
        "\n",
        "# Set parameter grid respectively\n",
        "param_grid = dict(n_neighbors=k_range, metric=metric, weights=options)"
      ],
      "execution_count": null,
      "outputs": []
    },
    {
      "cell_type": "code",
      "metadata": {
        "id": "icpohUA31iM6"
      },
      "source": [
        "# Notes on RandomizedSearchCV parameters\n",
        "    # n_iter: Number of random combinations it would try\n",
        "    # random_state: Reproducibility/ Set seed\n",
        "\n",
        "# Initialize new KNN model\n",
        "knn_rand = KNeighborsClassifier()\n",
        "\n",
        "# Initialize Randomized Search with params\n",
        "# Cross Validation is 10\n",
        "rand = RandomizedSearchCV(knn_rand, param_grid, cv=10, scoring='accuracy', n_iter=10, random_state=5)\n",
        "\n",
        "# Fit Randomized Search with the training data\n",
        "rand.fit(X_train, y_train.values.ravel())"
      ],
      "execution_count": null,
      "outputs": []
    },
    {
      "cell_type": "code",
      "metadata": {
        "id": "5ydxp7T_1iM6"
      },
      "source": [
        "rand.best_params_ \n",
        "# {'weights': 'distance', 'n_neighbors': 2, 'metric': 'manhattan'}"
      ],
      "execution_count": null,
      "outputs": []
    },
    {
      "cell_type": "code",
      "metadata": {
        "id": "pzkLVF5o1iM7"
      },
      "source": [
        "rand.best_score_ \n",
        "# 0.8652206356425648"
      ],
      "execution_count": null,
      "outputs": []
    },
    {
      "cell_type": "code",
      "metadata": {
        "id": "m1YRtKJd1iM7"
      },
      "source": [
        "# Initial Randomized Search CV result Before Normalization\n",
        "# 0.7488861511088009\n",
        "# {'weights': 'distance', 'n_neighbors': 10}"
      ],
      "execution_count": null,
      "outputs": []
    },
    {
      "cell_type": "code",
      "metadata": {
        "id": "BODpZiOt4lec"
      },
      "source": [
        ""
      ],
      "execution_count": null,
      "outputs": []
    },
    {
      "cell_type": "markdown",
      "metadata": {
        "id": "g5s_XDpucX9R"
      },
      "source": [
        "### PCA on KNN"
      ]
    },
    {
      "cell_type": "code",
      "metadata": {
        "id": "QJ52-t8TcX9R"
      },
      "source": [
        "pca = PCA(0.90) \n",
        "X_transformed = pca.fit_transform(X_train)  \n",
        "X_test_transformed = pca.transform(X_test)  \n",
        "\n",
        " \n",
        " \n",
        "\n",
        " "
      ],
      "execution_count": null,
      "outputs": []
    },
    {
      "cell_type": "code",
      "metadata": {
        "id": "TOq114zDcX9R",
        "outputId": "bda44fa8-c073-4db3-a173-f9d715e309b6"
      },
      "source": [
        "knn_pca = KNeighborsClassifier()\n",
        "knn_pca.fit(X_transformed, y_train.values.ravel())"
      ],
      "execution_count": null,
      "outputs": [
        {
          "output_type": "execute_result",
          "data": {
            "text/plain": [
              "KNeighborsClassifier()"
            ]
          },
          "metadata": {
            "tags": []
          },
          "execution_count": 36
        }
      ]
    },
    {
      "cell_type": "code",
      "metadata": {
        "id": "8YQmzrK6cX9S"
      },
      "source": [
        " \n",
        "y_pred_knn_pca = knn_pca.predict(X_transformed)\n",
        "print(\"Accuracy Train PCA:\", accuracy_score(y_train, y_pred_knn_pca))"
      ],
      "execution_count": null,
      "outputs": []
    },
    {
      "cell_type": "code",
      "metadata": {
        "id": "PZJNO3uJcX9S"
      },
      "source": [
        "  \n",
        " y_pred_knn_pca = knn_pca.predict(X_test_transformed)\n",
        "print(\"Accuracy Train PCA:\", accuracy_score(y_test, y_pred_knn_pca))"
      ],
      "execution_count": null,
      "outputs": []
    },
    {
      "cell_type": "code",
      "metadata": {
        "id": "47iLjTvpcX9T",
        "outputId": "59b209a9-346e-4465-c790-31e54d7af6e9"
      },
      "source": [
        " \n",
        "title = 'Accuracy Score Test PCA: {0}'.format(accuracy_score(y_test, y_pred_knn_pca))\n",
        "\n",
        "\n",
        "array = confusion_matrix(y_test, y_pred_knn_pca)\n",
        "df_cm = pd.DataFrame(array, range(3), range(3))\n",
        "# plt.figure(figsize=(10,7))\n",
        "sn.set(font_scale=1.4)  \n",
        "sn.heatmap(df_cm, annot=True,cmap='Reds_r', fmt='.3f',square=True,xticklabels=cat, yticklabels=cat,  annot_kws={\"size\": 13}) \n",
        "plt.ylabel('Actual label')\n",
        "plt.xlabel('Predicted label')\n",
        "\n",
        "plt.show()\n",
        " \n",
        "print(\"\\n\")\n",
        "print(\"PCA Classification Report\", classification_report(y_test, y_pred_knn_pca))\n",
        "print(\"\\n\")"
      ],
      "execution_count": null,
      "outputs": [
        {
          "output_type": "stream",
          "text": [
            "\n",
            " PCA Classification Report\n",
            "               precision    recall  f1-score   support\n",
            "\n",
            "           0       0.70      0.97      0.81      1178\n",
            "           1       0.97      0.89      0.93      1180\n",
            "           2       0.94      0.64      0.76      1180\n",
            "\n",
            "    accuracy                           0.84      3538\n",
            "   macro avg       0.87      0.84      0.83      3538\n",
            "weighted avg       0.87      0.84      0.83      3538\n",
            "\n"
          ],
          "name": "stdout"
        },
        {
          "output_type": "display_data",
          "data": {
            "image/png": "[encoded data removed]",
            "text/plain": [
              "<Figure size 648x648 with 2 Axes>"
            ]
          },
          "metadata": {
            "tags": [],
            "needs_background": "light"
          }
        }
      ]
    },
    {
      "cell_type": "markdown",
      "metadata": {
        "id": "CnNtKiyMcUnF"
      },
      "source": [
        "### Decision Trees Classifier "
      ]
    },
    {
      "cell_type": "code",
      "metadata": {
        "id": "MrG2SOWgcUnN"
      },
      "source": [
        "  \n",
        "from sklearn.tree import DecisionTreeClassifier\n",
        " \n",
        "import seaborn as sns  \n",
        "import pandas as pd\n",
        "import numpy as np\n",
        "import matplotlib.pyplot as plt  \n",
        "\n",
        "import pickle\n",
        " \n",
        " "
      ],
      "execution_count": null,
      "outputs": []
    },
    {
      "cell_type": "code",
      "metadata": {
        "id": "_Hqt_dSacUnT"
      },
      "source": [
        " \n",
        "dt = DecisionTreeClassifier()\n",
        "\n",
        " \n",
        "dt.fit(X_train, y_train.values.ravel())\n",
        "y_pred_dt= dt.predict(X_test)"
      ],
      "execution_count": null,
      "outputs": []
    },
    {
      "cell_type": "code",
      "metadata": {
        "id": "yQQQt5bPcUnU"
      },
      "source": [
        " \n",
        "y_pred_dt = decision_trees.predict(X_test)"
      ],
      "execution_count": null,
      "outputs": []
    },
    {
      "cell_type": "code",
      "metadata": {
        "id": "Haxm_2nCcUnV",
        "outputId": "9e6165cb-312c-4f47-c1a9-743740e4a6a1"
      },
      "source": [
        " \n",
        "array = confusion_matrix(y_test, y_pred_dt)\n",
        "df_cm = pd.DataFrame(array, range(3), range(3))\n",
        "# plt.figure(figsize=(10,7))\n",
        "sn.set(font_scale=1.4)  \n",
        "sn.heatmap(df_cm, annot=True,cmap='Reds_r', fmt='.3f',square=True,xticklabels=cat, yticklabels=cat,  annot_kws={\"size\": 13}) \n",
        "plt.ylabel('Actual label')\n",
        "plt.xlabel('Predicted label')\n",
        "\n",
        "plt.show()\n",
        "title = 'Accuracy Score, No Hyperparameter Tuning: {0}'.format(accuracy_score(y_test, predictions_set))\n",
        "plt.title(title,size=15)"
      ],
      "execution_count": null,
      "outputs": [
        {
          "output_type": "execute_result",
          "data": {
            "text/plain": [
              "Text(0.5, 1.0, 'Accuracy Score: 0.828151498021481')"
            ]
          },
          "metadata": {
            "tags": []
          },
          "execution_count": 12
        },
        {
          "output_type": "display_data",
          "data": {
            "image/png": "[encoded data removed]",
            "text/plain": [
              "<Figure size 648x648 with 2 Axes>"
            ]
          },
          "metadata": {
            "tags": [],
            "needs_background": "light"
          }
        }
      ]
    },
    {
      "cell_type": "code",
      "metadata": {
        "id": "J-LZlr-hcUnV",
        "outputId": "4a261f06-6726-4693-ef9d-7a8773b3a173"
      },
      "source": [
        "print('Decision Trees Precision: %.3f' % precision_score(y_test, y_pred_dt))\n",
        " "
      ],
      "execution_count": null,
      "outputs": [
        {
          "output_type": "stream",
          "text": [
            "Decision Trees Precision: 0.828\n"
          ],
          "name": "stdout"
        }
      ]
    },
    {
      "cell_type": "code",
      "metadata": {
        "id": "eySfycK8cUnW",
        "outputId": "8e90c6ce-eed0-4695-c872-1df4c6325d5f"
      },
      "source": [
        "print(\"\\n\")\n",
        "print(\"Classification Report\", classification_report(y_test, y_pred_dt))\n",
        "print(\"\\n\")"
      ],
      "execution_count": null,
      "outputs": [
        {
          "output_type": "stream",
          "text": [
            "\n",
            "Classification Report\n",
            "               precision    recall  f1-score   support\n",
            "\n",
            "           0       0.81      0.83      0.82      1178\n",
            "           1       0.90      0.91      0.90      1180\n",
            "           2       0.77      0.75      0.76      1180\n",
            "\n",
            "    accuracy                           0.83      3538\n",
            "   macro avg       0.83      0.83      0.83      3538\n",
            "weighted avg       0.83      0.83      0.83      3538\n",
            "\n"
          ],
          "name": "stdout"
        }
      ]
    },
    {
      "cell_type": "code",
      "metadata": {
        "id": "x-jeEKqXqjtL"
      },
      "source": [
        " dt.save('model.h5')  "
      ],
      "execution_count": null,
      "outputs": []
    },
    {
      "cell_type": "markdown",
      "metadata": {
        "id": "yzqlKDwz60M3"
      },
      "source": [
        "### Decision Tree with Hyperparameter Tuning"
      ]
    },
    {
      "cell_type": "markdown",
      "metadata": {
        "id": "rd0S4NAi7hjC"
      },
      "source": [
        "####Max Depths [Decision Trees Hyperparameter Tuning]\n",
        "Determines the depth of a tree. The deeper the tree, the more splits/information is garnered about the data.\n",
        "\n",
        "> Notes: As depth increases, likelihood of overfitting the data increases"
      ]
    },
    {
      "cell_type": "code",
      "metadata": {
        "id": "JyKwyEGD7pDo"
      },
      "source": [
        ""
      ],
      "execution_count": null,
      "outputs": []
    },
    {
      "cell_type": "code",
      "metadata": {
        "id": "_GIaPQ3zcUnZ",
        "outputId": "2ca29cbe-4885-4b27-9b16-733014f173c0"
      },
      "source": [
        "max_depths = np.linspace(1, 32, 32, endpoint=True)\n",
        "\n",
        "for depth in max_depths:\n",
        "    # Initialize Classifier with max_depth\n",
        "    dt = DecisionTreeClassifier(max_depth=depth)\n",
        "    # Fit Classifier \n",
        "    dt.fit(X_train, y_train)\n",
        "    # Train Classifier Prediction\n",
        "    train_pred = dt.predict(X_train)\n",
        "    # Test Classifier Prediction\n",
        "    y_pred = dt.predict(X_test)\n",
        "    \n",
        "    print(\"For max depth:\", max_depth)\n",
        "    print('===== Accuracy Train: %.3f' % accuracy_score(y_train, train_pred))\n",
        "    print('===== Accuracy Test: %.3f' % accuracy_score(y_test, y_pred))\n",
        "    print(\"\\nClassification Report\\n\", classification_report(y_test, y_pred))\n",
        "\n",
        "#   Best Performing Depth 83.7%, max-depth=10"
      ],
      "execution_count": null,
      "outputs": [
        {
          "output_type": "stream",
          "text": [
            "For max depth: 1.0\n",
            "===== Accuracy Train: 0.587\n",
            "===== Accuracy Test: 0.585\n",
            "\n",
            "Classification Report\n",
            "               precision    recall  f1-score   support\n",
            "\n",
            "           0       0.48      0.94      0.63      1178\n",
            "           1       0.79      0.82      0.80      1180\n",
            "           2       0.00      0.00      0.00      1180\n",
            "\n",
            "    accuracy                           0.58      3538\n",
            "   macro avg       0.42      0.58      0.48      3538\n",
            "weighted avg       0.42      0.58      0.48      3538\n",
            "\n"
          ],
          "name": "stdout"
        },
        {
          "output_type": "stream",
          "text": [
            "/Library/Frameworks/Python.framework/Versions/3.8/lib/python3.8/site-packages/sklearn/metrics/_classification.py:1221: UndefinedMetricWarning: Precision and F-score are ill-defined and being set to 0.0 in labels with no predicted samples. Use `zero_division` parameter to control this behavior.\n",
            "  _warn_prf(average, modifier, msg_start, len(result))\n"
          ],
          "name": "stderr"
        },
        {
          "output_type": "stream",
          "text": [
            "For max depth: 2.0\n",
            "===== Accuracy Train: 0.683\n",
            "===== Accuracy Test: 0.669\n",
            "\n",
            "Classification Report\n",
            "               precision    recall  f1-score   support\n",
            "\n",
            "           0       0.62      0.70      0.66      1178\n",
            "           1       0.89      0.75      0.81      1180\n",
            "           2       0.54      0.56      0.55      1180\n",
            "\n",
            "    accuracy                           0.67      3538\n",
            "   macro avg       0.68      0.67      0.67      3538\n",
            "weighted avg       0.68      0.67      0.67      3538\n",
            "\n",
            "For max depth: 3.0\n",
            "===== Accuracy Train: 0.737\n",
            "===== Accuracy Test: 0.726\n",
            "\n",
            "Classification Report\n",
            "               precision    recall  f1-score   support\n",
            "\n",
            "           0       0.74      0.58      0.65      1178\n",
            "           1       0.86      0.88      0.87      1180\n",
            "           2       0.60      0.72      0.65      1180\n",
            "\n",
            "    accuracy                           0.73      3538\n",
            "   macro avg       0.73      0.73      0.73      3538\n",
            "weighted avg       0.73      0.73      0.73      3538\n",
            "\n",
            "For max depth: 4.0\n",
            "===== Accuracy Train: 0.769\n",
            "===== Accuracy Test: 0.751\n",
            "\n",
            "Classification Report\n",
            "               precision    recall  f1-score   support\n",
            "\n",
            "           0       0.73      0.66      0.69      1178\n",
            "           1       0.93      0.86      0.89      1180\n",
            "           2       0.63      0.74      0.68      1180\n",
            "\n",
            "    accuracy                           0.75      3538\n",
            "   macro avg       0.76      0.75      0.75      3538\n",
            "weighted avg       0.76      0.75      0.75      3538\n",
            "\n",
            "For max depth: 5.0\n",
            "===== Accuracy Train: 0.811\n",
            "===== Accuracy Test: 0.791\n",
            "\n",
            "Classification Report\n",
            "               precision    recall  f1-score   support\n",
            "\n",
            "           0       0.73      0.81      0.77      1178\n",
            "           1       0.91      0.88      0.90      1180\n",
            "           2       0.74      0.68      0.71      1180\n",
            "\n",
            "    accuracy                           0.79      3538\n",
            "   macro avg       0.79      0.79      0.79      3538\n",
            "weighted avg       0.79      0.79      0.79      3538\n",
            "\n",
            "For max depth: 6.0\n",
            "===== Accuracy Train: 0.843\n",
            "===== Accuracy Test: 0.808\n",
            "\n",
            "Classification Report\n",
            "               precision    recall  f1-score   support\n",
            "\n",
            "           0       0.78      0.81      0.79      1178\n",
            "           1       0.93      0.87      0.90      1180\n",
            "           2       0.73      0.74      0.73      1180\n",
            "\n",
            "    accuracy                           0.81      3538\n",
            "   macro avg       0.81      0.81      0.81      3538\n",
            "weighted avg       0.81      0.81      0.81      3538\n",
            "\n",
            "For max depth: 7.0\n",
            "===== Accuracy Train: 0.875\n",
            "===== Accuracy Test: 0.821\n",
            "\n",
            "Classification Report\n",
            "               precision    recall  f1-score   support\n",
            "\n",
            "           0       0.79      0.81      0.80      1178\n",
            "           1       0.93      0.90      0.92      1180\n",
            "           2       0.75      0.76      0.75      1180\n",
            "\n",
            "    accuracy                           0.82      3538\n",
            "   macro avg       0.82      0.82      0.82      3538\n",
            "weighted avg       0.82      0.82      0.82      3538\n",
            "\n",
            "For max depth: 8.0\n",
            "===== Accuracy Train: 0.905\n",
            "===== Accuracy Test: 0.821\n",
            "\n",
            "Classification Report\n",
            "               precision    recall  f1-score   support\n",
            "\n",
            "           0       0.79      0.83      0.81      1178\n",
            "           1       0.91      0.91      0.91      1180\n",
            "           2       0.76      0.73      0.75      1180\n",
            "\n",
            "    accuracy                           0.82      3538\n",
            "   macro avg       0.82      0.82      0.82      3538\n",
            "weighted avg       0.82      0.82      0.82      3538\n",
            "\n",
            "For max depth: 9.0\n",
            "===== Accuracy Train: 0.932\n",
            "===== Accuracy Test: 0.832\n",
            "\n",
            "Classification Report\n",
            "               precision    recall  f1-score   support\n",
            "\n",
            "           0       0.79      0.85      0.82      1178\n",
            "           1       0.92      0.91      0.91      1180\n",
            "           2       0.79      0.74      0.76      1180\n",
            "\n",
            "    accuracy                           0.83      3538\n",
            "   macro avg       0.83      0.83      0.83      3538\n",
            "weighted avg       0.83      0.83      0.83      3538\n",
            "\n",
            "For max depth: 10.0\n",
            "===== Accuracy Train: 0.953\n",
            "===== Accuracy Test: 0.837\n",
            "\n",
            "Classification Report\n",
            "               precision    recall  f1-score   support\n",
            "\n",
            "           0       0.80      0.85      0.83      1178\n",
            "           1       0.92      0.91      0.92      1180\n",
            "           2       0.79      0.75      0.77      1180\n",
            "\n",
            "    accuracy                           0.84      3538\n",
            "   macro avg       0.84      0.84      0.84      3538\n",
            "weighted avg       0.84      0.84      0.84      3538\n",
            "\n",
            "For max depth: 11.0\n",
            "===== Accuracy Train: 0.969\n",
            "===== Accuracy Test: 0.838\n",
            "\n",
            "Classification Report\n",
            "               precision    recall  f1-score   support\n",
            "\n",
            "           0       0.81      0.84      0.82      1178\n",
            "           1       0.91      0.92      0.92      1180\n",
            "           2       0.79      0.76      0.77      1180\n",
            "\n",
            "    accuracy                           0.84      3538\n",
            "   macro avg       0.84      0.84      0.84      3538\n",
            "weighted avg       0.84      0.84      0.84      3538\n",
            "\n",
            "For max depth: 12.0\n",
            "===== Accuracy Train: 0.979\n",
            "===== Accuracy Test: 0.832\n",
            "\n",
            "Classification Report\n",
            "               precision    recall  f1-score   support\n",
            "\n",
            "           0       0.81      0.84      0.82      1178\n",
            "           1       0.90      0.91      0.91      1180\n",
            "           2       0.79      0.75      0.77      1180\n",
            "\n",
            "    accuracy                           0.83      3538\n",
            "   macro avg       0.83      0.83      0.83      3538\n",
            "weighted avg       0.83      0.83      0.83      3538\n",
            "\n",
            "For max depth: 13.0\n",
            "===== Accuracy Train: 0.985\n",
            "===== Accuracy Test: 0.833\n",
            "\n",
            "Classification Report\n",
            "               precision    recall  f1-score   support\n",
            "\n",
            "           0       0.81      0.84      0.82      1178\n",
            "           1       0.90      0.91      0.91      1180\n",
            "           2       0.79      0.75      0.77      1180\n",
            "\n",
            "    accuracy                           0.83      3538\n",
            "   macro avg       0.83      0.83      0.83      3538\n",
            "weighted avg       0.83      0.83      0.83      3538\n",
            "\n",
            "For max depth: 14.0\n",
            "===== Accuracy Train: 0.988\n",
            "===== Accuracy Test: 0.832\n",
            "\n",
            "Classification Report\n",
            "               precision    recall  f1-score   support\n",
            "\n",
            "           0       0.81      0.84      0.83      1178\n",
            "           1       0.91      0.91      0.91      1180\n",
            "           2       0.78      0.75      0.76      1180\n",
            "\n",
            "    accuracy                           0.83      3538\n",
            "   macro avg       0.83      0.83      0.83      3538\n",
            "weighted avg       0.83      0.83      0.83      3538\n",
            "\n",
            "For max depth: 15.0\n",
            "===== Accuracy Train: 0.990\n",
            "===== Accuracy Test: 0.832\n",
            "\n",
            "Classification Report\n",
            "               precision    recall  f1-score   support\n",
            "\n",
            "           0       0.80      0.85      0.82      1178\n",
            "           1       0.90      0.91      0.91      1180\n",
            "           2       0.79      0.74      0.77      1180\n",
            "\n",
            "    accuracy                           0.83      3538\n",
            "   macro avg       0.83      0.83      0.83      3538\n",
            "weighted avg       0.83      0.83      0.83      3538\n",
            "\n",
            "For max depth: 16.0\n",
            "===== Accuracy Train: 0.992\n",
            "===== Accuracy Test: 0.829\n",
            "\n",
            "Classification Report\n",
            "               precision    recall  f1-score   support\n",
            "\n",
            "           0       0.81      0.84      0.82      1178\n",
            "           1       0.90      0.91      0.91      1180\n",
            "           2       0.77      0.74      0.76      1180\n",
            "\n",
            "    accuracy                           0.83      3538\n",
            "   macro avg       0.83      0.83      0.83      3538\n",
            "weighted avg       0.83      0.83      0.83      3538\n",
            "\n",
            "For max depth: 17.0\n",
            "===== Accuracy Train: 0.993\n",
            "===== Accuracy Test: 0.831\n",
            "\n",
            "Classification Report\n",
            "               precision    recall  f1-score   support\n",
            "\n",
            "           0       0.80      0.84      0.82      1178\n",
            "           1       0.91      0.91      0.91      1180\n",
            "           2       0.78      0.75      0.76      1180\n",
            "\n",
            "    accuracy                           0.83      3538\n",
            "   macro avg       0.83      0.83      0.83      3538\n",
            "weighted avg       0.83      0.83      0.83      3538\n",
            "\n",
            "For max depth: 18.0\n",
            "===== Accuracy Train: 0.994\n",
            "===== Accuracy Test: 0.834\n",
            "\n",
            "Classification Report\n",
            "               precision    recall  f1-score   support\n",
            "\n",
            "           0       0.81      0.84      0.82      1178\n",
            "           1       0.91      0.91      0.91      1180\n",
            "           2       0.79      0.75      0.77      1180\n",
            "\n",
            "    accuracy                           0.83      3538\n",
            "   macro avg       0.83      0.83      0.83      3538\n",
            "weighted avg       0.83      0.83      0.83      3538\n",
            "\n",
            "For max depth: 19.0\n",
            "===== Accuracy Train: 0.995\n",
            "===== Accuracy Test: 0.827\n",
            "\n",
            "Classification Report\n",
            "               precision    recall  f1-score   support\n",
            "\n",
            "           0       0.80      0.83      0.82      1178\n",
            "           1       0.90      0.91      0.90      1180\n",
            "           2       0.78      0.74      0.76      1180\n",
            "\n",
            "    accuracy                           0.83      3538\n",
            "   macro avg       0.83      0.83      0.83      3538\n",
            "weighted avg       0.83      0.83      0.83      3538\n",
            "\n"
          ],
          "name": "stdout"
        },
        {
          "output_type": "stream",
          "text": [
            "For max depth: 20.0\n",
            "===== Accuracy Train: 0.995\n",
            "===== Accuracy Test: 0.825\n",
            "\n",
            "Classification Report\n",
            "               precision    recall  f1-score   support\n",
            "\n",
            "           0       0.80      0.83      0.82      1178\n",
            "           1       0.90      0.90      0.90      1180\n",
            "           2       0.77      0.74      0.76      1180\n",
            "\n",
            "    accuracy                           0.83      3538\n",
            "   macro avg       0.82      0.83      0.82      3538\n",
            "weighted avg       0.82      0.83      0.82      3538\n",
            "\n",
            "For max depth: 21.0\n",
            "===== Accuracy Train: 0.996\n",
            "===== Accuracy Test: 0.830\n",
            "\n",
            "Classification Report\n",
            "               precision    recall  f1-score   support\n",
            "\n",
            "           0       0.81      0.83      0.82      1178\n",
            "           1       0.90      0.90      0.90      1180\n",
            "           2       0.78      0.76      0.77      1180\n",
            "\n",
            "    accuracy                           0.83      3538\n",
            "   macro avg       0.83      0.83      0.83      3538\n",
            "weighted avg       0.83      0.83      0.83      3538\n",
            "\n",
            "For max depth: 22.0\n",
            "===== Accuracy Train: 0.997\n",
            "===== Accuracy Test: 0.831\n",
            "\n",
            "Classification Report\n",
            "               precision    recall  f1-score   support\n",
            "\n",
            "           0       0.81      0.82      0.82      1178\n",
            "           1       0.91      0.91      0.91      1180\n",
            "           2       0.77      0.76      0.76      1180\n",
            "\n",
            "    accuracy                           0.83      3538\n",
            "   macro avg       0.83      0.83      0.83      3538\n",
            "weighted avg       0.83      0.83      0.83      3538\n",
            "\n",
            "For max depth: 23.0\n",
            "===== Accuracy Train: 0.998\n",
            "===== Accuracy Test: 0.827\n",
            "\n",
            "Classification Report\n",
            "               precision    recall  f1-score   support\n",
            "\n",
            "           0       0.81      0.84      0.82      1178\n",
            "           1       0.90      0.91      0.90      1180\n",
            "           2       0.77      0.74      0.76      1180\n",
            "\n",
            "    accuracy                           0.83      3538\n",
            "   macro avg       0.83      0.83      0.83      3538\n",
            "weighted avg       0.83      0.83      0.83      3538\n",
            "\n",
            "For max depth: 24.0\n",
            "===== Accuracy Train: 0.998\n",
            "===== Accuracy Test: 0.832\n",
            "\n",
            "Classification Report\n",
            "               precision    recall  f1-score   support\n",
            "\n",
            "           0       0.81      0.83      0.82      1178\n",
            "           1       0.91      0.91      0.91      1180\n",
            "           2       0.77      0.75      0.76      1180\n",
            "\n",
            "    accuracy                           0.83      3538\n",
            "   macro avg       0.83      0.83      0.83      3538\n",
            "weighted avg       0.83      0.83      0.83      3538\n",
            "\n",
            "For max depth: 25.0\n",
            "===== Accuracy Train: 0.998\n",
            "===== Accuracy Test: 0.823\n",
            "\n",
            "Classification Report\n",
            "               precision    recall  f1-score   support\n",
            "\n",
            "           0       0.80      0.82      0.81      1178\n",
            "           1       0.90      0.91      0.91      1180\n",
            "           2       0.76      0.74      0.75      1180\n",
            "\n",
            "    accuracy                           0.82      3538\n",
            "   macro avg       0.82      0.82      0.82      3538\n",
            "weighted avg       0.82      0.82      0.82      3538\n",
            "\n",
            "For max depth: 26.0\n",
            "===== Accuracy Train: 0.998\n",
            "===== Accuracy Test: 0.828\n",
            "\n",
            "Classification Report\n",
            "               precision    recall  f1-score   support\n",
            "\n",
            "           0       0.81      0.83      0.82      1178\n",
            "           1       0.90      0.91      0.90      1180\n",
            "           2       0.77      0.75      0.76      1180\n",
            "\n",
            "    accuracy                           0.83      3538\n",
            "   macro avg       0.83      0.83      0.83      3538\n",
            "weighted avg       0.83      0.83      0.83      3538\n",
            "\n",
            "For max depth: 27.0\n",
            "===== Accuracy Train: 0.998\n",
            "===== Accuracy Test: 0.821\n",
            "\n",
            "Classification Report\n",
            "               precision    recall  f1-score   support\n",
            "\n",
            "           0       0.80      0.82      0.81      1178\n",
            "           1       0.90      0.90      0.90      1180\n",
            "           2       0.76      0.74      0.75      1180\n",
            "\n",
            "    accuracy                           0.82      3538\n",
            "   macro avg       0.82      0.82      0.82      3538\n",
            "weighted avg       0.82      0.82      0.82      3538\n",
            "\n",
            "For max depth: 28.0\n",
            "===== Accuracy Train: 0.999\n",
            "===== Accuracy Test: 0.830\n",
            "\n",
            "Classification Report\n",
            "               precision    recall  f1-score   support\n",
            "\n",
            "           0       0.81      0.83      0.82      1178\n",
            "           1       0.91      0.90      0.91      1180\n",
            "           2       0.77      0.76      0.77      1180\n",
            "\n",
            "    accuracy                           0.83      3538\n",
            "   macro avg       0.83      0.83      0.83      3538\n",
            "weighted avg       0.83      0.83      0.83      3538\n",
            "\n",
            "For max depth: 29.0\n",
            "===== Accuracy Train: 0.999\n",
            "===== Accuracy Test: 0.824\n",
            "\n",
            "Classification Report\n",
            "               precision    recall  f1-score   support\n",
            "\n",
            "           0       0.80      0.83      0.82      1178\n",
            "           1       0.90      0.90      0.90      1180\n",
            "           2       0.77      0.74      0.75      1180\n",
            "\n",
            "    accuracy                           0.82      3538\n",
            "   macro avg       0.82      0.82      0.82      3538\n",
            "weighted avg       0.82      0.82      0.82      3538\n",
            "\n",
            "For max depth: 30.0\n",
            "===== Accuracy Train: 0.999\n",
            "===== Accuracy Test: 0.822\n",
            "\n",
            "Classification Report\n",
            "               precision    recall  f1-score   support\n",
            "\n",
            "           0       0.79      0.83      0.81      1178\n",
            "           1       0.91      0.91      0.91      1180\n",
            "           2       0.76      0.74      0.75      1180\n",
            "\n",
            "    accuracy                           0.82      3538\n",
            "   macro avg       0.82      0.82      0.82      3538\n",
            "weighted avg       0.82      0.82      0.82      3538\n",
            "\n",
            "For max depth: 31.0\n",
            "===== Accuracy Train: 0.999\n",
            "===== Accuracy Test: 0.824\n",
            "\n",
            "Classification Report\n",
            "               precision    recall  f1-score   support\n",
            "\n",
            "           0       0.80      0.83      0.82      1178\n",
            "           1       0.91      0.90      0.90      1180\n",
            "           2       0.76      0.75      0.75      1180\n",
            "\n",
            "    accuracy                           0.82      3538\n",
            "   macro avg       0.82      0.82      0.82      3538\n",
            "weighted avg       0.82      0.82      0.82      3538\n",
            "\n",
            "For max depth: 32.0\n",
            "===== Accuracy Train: 1.000\n",
            "===== Accuracy Test: 0.822\n",
            "\n",
            "Classification Report\n",
            "               precision    recall  f1-score   support\n",
            "\n",
            "           0       0.80      0.83      0.81      1178\n",
            "           1       0.91      0.90      0.90      1180\n",
            "           2       0.76      0.74      0.75      1180\n",
            "\n",
            "    accuracy                           0.82      3538\n",
            "   macro avg       0.82      0.82      0.82      3538\n",
            "weighted avg       0.82      0.82      0.82      3538\n",
            "\n"
          ],
          "name": "stdout"
        }
      ]
    },
    {
      "cell_type": "code",
      "metadata": {
        "id": "ZBvPHu9s7z4x"
      },
      "source": [
        ""
      ],
      "execution_count": null,
      "outputs": []
    },
    {
      "cell_type": "markdown",
      "metadata": {
        "id": "kdKYBSsv73Hx"
      },
      "source": [
        ""
      ]
    },
    {
      "cell_type": "markdown",
      "metadata": {
        "id": "M9EKK_WO9Qjb"
      },
      "source": [
        "####Performance"
      ]
    },
    {
      "cell_type": "code",
      "metadata": {
        "id": "J_xPnBI09UwL"
      },
      "source": [
        ""
      ],
      "execution_count": null,
      "outputs": []
    },
    {
      "cell_type": "code",
      "metadata": {
        "scrolled": true,
        "id": "cj4TSZG-cUnd",
        "outputId": "94bfcb84-f6ab-4f80-9cb4-bb2816d468d6"
      },
      "source": [
        " \n",
        "best_max_depth = 10\n",
        "best_max_feature = 1138\n",
        "\n",
        "\n",
        "dt = DecisionTreeClassifier(max_features=best_max_feature, max_depth=10)\n",
        "dt.fit(X_train, y_train)\n",
        "train_pred = dt.predict(X_train)\n",
        "y_pred = dt.predict(X_test)\n",
        "\n",
        "print(\"For max feature:\", best_max_feature, \", max_depth:\", best_max_depth)\n",
        "print('===== Accuracy Train: %.3f' % accuracy_score(y_train, train_pred))\n",
        "print('===== Accuracy Test: %.3f' % accuracy_score(y_test, y_pred))\n",
        "print(\"\\nClassification Report\\n\", classification_report(y_test, y_pred))\n",
        "\n",
        "# This set of features perform slightly better than the no hyperparameter tuning model with ~84% accuracy"
      ],
      "execution_count": null,
      "outputs": [
        {
          "output_type": "stream",
          "text": [
            "For max feature: 1138 , max_depth: 10\n",
            "===== Accuracy Train: 0.949\n",
            "===== Accuracy Test: 0.839\n",
            "\n",
            "Classification Report\n",
            "               precision    recall  f1-score   support\n",
            "\n",
            "           0       0.82      0.85      0.84      1178\n",
            "           1       0.92      0.90      0.91      1180\n",
            "           2       0.78      0.76      0.77      1180\n",
            "\n",
            "    accuracy                           0.84      3538\n",
            "   macro avg       0.84      0.84      0.84      3538\n",
            "weighted avg       0.84      0.84      0.84      3538\n",
            "\n"
          ],
          "name": "stdout"
        }
      ]
    },
    {
      "cell_type": "code",
      "metadata": {
        "id": "fcWDMyYm9fEx"
      },
      "source": [
        ""
      ],
      "execution_count": null,
      "outputs": []
    },
    {
      "cell_type": "code",
      "metadata": {
        "id": "niKR-YudcUne",
        "outputId": "10967278-da10-4939-c89b-9a7fb5cec49b"
      },
      "source": [
        "# Calculate Confusion Matrix for \n",
        "cm = confusion_matrix(y_test, y_pred)\n",
        "\n",
        "plt.figure(figsize=(9,9))\n",
        "\n",
        "# Heatmap visualization of accuracy\n",
        "sns.heatmap(cm,annot=True, fmt='.3f', linewidths=.5, square=True,cmap='Greens_r')\n",
        "plt.ylabel('Actual label')\n",
        "plt.xlabel('Predicted label')\n",
        "title = 'Accuracy Score Test: {0}'.format(accuracy_score(y_test, y_pred))\n",
        "plt.title(title,size=15)\n",
        "\n",
        "print(\"\\nHyperparameter Tuning Classification Report\\n\", classification_report(y_test, y_pred))"
      ],
      "execution_count": null,
      "outputs": [
        {
          "output_type": "stream",
          "text": [
            "\n",
            "Hyperparameter Tuning Classification Report\n",
            "               precision    recall  f1-score   support\n",
            "\n",
            "           0       0.82      0.85      0.84      1178\n",
            "           1       0.92      0.90      0.91      1180\n",
            "           2       0.78      0.76      0.77      1180\n",
            "\n",
            "    accuracy                           0.84      3538\n",
            "   macro avg       0.84      0.84      0.84      3538\n",
            "weighted avg       0.84      0.84      0.84      3538\n",
            "\n"
          ],
          "name": "stdout"
        },
        {
          "output_type": "display_data",
          "data": {
            "image/png": "[encoded data removed]",
            "text/plain": [
              "<Figure size 648x648 with 2 Axes>"
            ]
          },
          "metadata": {
            "tags": [],
            "needs_background": "light"
          }
        }
      ]
    },
    {
      "cell_type": "markdown",
      "metadata": {
        "id": "xtG10ozAqlAx"
      },
      "source": [
        "###DEMO USING Decision tree classifier"
      ]
    },
    {
      "cell_type": "code",
      "metadata": {
        "id": "_m1lAJN8zc7z"
      },
      "source": [
        ""
      ],
      "execution_count": null,
      "outputs": []
    },
    {
      "cell_type": "code",
      "metadata": {
        "id": "_Q8rnuQ-ltw_"
      },
      "source": [
        "from keras.models import load_model\n",
        "model=load_model('model.h5')\n"
      ],
      "execution_count": null,
      "outputs": []
    },
    {
      "cell_type": "code",
      "metadata": {
        "id": "ehgBhQ2PoOkE"
      },
      "source": [
        "from PIL import Image \n",
        "from tensorflow.keras.preprocessing import image \n",
        "from IPython.display import display\n",
        "import IPython.display \n",
        "import numpy as np"
      ],
      "execution_count": null,
      "outputs": []
    },
    {
      "cell_type": "code",
      "metadata": {
        "id": "JTpESB6CwDcc"
      },
      "source": [
        "path=r\"/content/0_0_--++.png\""
      ],
      "execution_count": null,
      "outputs": []
    },
    {
      "cell_type": "code",
      "metadata": {
        "id": "APIO2lfTmuGG"
      },
      "source": [
        "def predict(img):\n",
        "    # img = img.resize((150, 150), Image.ANTIALIAS)\n",
        "    # img = img.convert('RGB')\n",
        "    \n",
        "    x = image.img_to_array(img)\n",
        "    x = np.expand_dims(x, axis=0) \n",
        "    preds = model.predict(x)[0]\n",
        "    # return {classes[x]: float(preds[x]) for x in np.argsort(preds)[::-1][:3]}\n",
        "    return preds\n"
      ],
      "execution_count": null,
      "outputs": []
    },
    {
      "cell_type": "code",
      "metadata": {
        "id": "Xi4RL_mQuBK3",
        "colab": {
          "base_uri": "https://localhost:8080/",
          "height": 294
        },
        "outputId": "037d26b0-0eb6-43d8-cd18-452dd465a1d8"
      },
      "source": [
        "display(IPython.display.Image(path))"
      ],
      "execution_count": null,
      "outputs": [
        {
          "output_type": "display_data",
          "data": {
            "image/png": "[encoded data removed]",
            "text/plain": [
              "<IPython.core.display.Image object>"
            ]
          },
          "metadata": {
            "tags": []
          }
        }
      ]
    },
    {
      "cell_type": "code",
      "metadata": {
        "id": "wC2q4Z39oIBV",
        "colab": {
          "base_uri": "https://localhost:8080/"
        },
        "outputId": "7a12a27d-f943-4980-d5b8-dc0a6ccee95b"
      },
      "source": [
        "img=image.load_img(path,target_size=(150,150,3))\n",
        "pred=predict(img)\n",
        "if pred==1:\n",
        "  print(\"No Mask \")\n",
        "elif  pred==2:\n",
        "  print(\"Incorrectly Worn\")\n",
        "else:\n",
        "  print(\"Mask worn\")"
      ],
      "execution_count": null,
      "outputs": [
        {
          "output_type": "stream",
          "text": [
            "Mask worn\n"
          ],
          "name": "stdout"
        }
      ]
    },
    {
      "cell_type": "code",
      "metadata": {
        "id": "p1ugXesI4NXM"
      },
      "source": [
        ""
      ],
      "execution_count": null,
      "outputs": []
    },
    {
      "cell_type": "markdown",
      "metadata": {
        "id": "y6Q_j82x4OuT"
      },
      "source": [
        ""
      ]
    }
  ]
}